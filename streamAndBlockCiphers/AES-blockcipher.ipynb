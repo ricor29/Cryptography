{
 "cells": [
  {
   "cell_type": "markdown",
   "metadata": {},
   "source": [
    "# This notebook investigates using AES\n",
    "\n",
    "This notebook was just to understand the 16 byte requirements in AES CBC for message padding. Only for reference PyCrypto was used."
   ]
  },
  {
   "cell_type": "markdown",
   "metadata": {},
   "source": [
    "### Import necessary modules"
   ]
  },
  {
   "cell_type": "code",
   "execution_count": 81,
   "metadata": {},
   "outputs": [],
   "source": [
    "from Crypto.Cipher import AES\n",
    "import Crypto.Util.Padding as pad\n",
    "\n",
    "import binascii\n",
    "import os\n",
    "import struct"
   ]
  },
  {
   "cell_type": "markdown",
   "metadata": {},
   "source": [
    "### Generate a key"
   ]
  },
  {
   "cell_type": "code",
   "execution_count": 82,
   "metadata": {},
   "outputs": [],
   "source": [
    "# We want a secure key so generate one with 16 bytes.\n",
    "key = binascii.hexlify(os.urandom(16))"
   ]
  },
  {
   "cell_type": "markdown",
   "metadata": {},
   "source": [
    "### Create an initialisation vector"
   ]
  },
  {
   "cell_type": "code",
   "execution_count": 83,
   "metadata": {},
   "outputs": [],
   "source": [
    "nonce = binascii.hexlify(os.urandom(8)) # AES requires 16 bytes, so urandom creates 8 and hexlify doubles length."
   ]
  },
  {
   "cell_type": "markdown",
   "metadata": {},
   "source": [
    "### Create an AES object with the key and IV.\n",
    "\n",
    "Remember that AES work in blocks of 16 bytes. We will therefore need to do some padding."
   ]
  },
  {
   "cell_type": "markdown",
   "metadata": {},
   "source": [
    "##### First have Alice encrypt the message."
   ]
  },
  {
   "cell_type": "code",
   "execution_count": 84,
   "metadata": {},
   "outputs": [
    {
     "name": "stdout",
     "output_type": "stream",
     "text": [
      "The cipher text is: b'1980777811ae5026afa38069296e9a7e846419e43d1fbacc19f0d0559393e147001f1adbedd7438d516736bf4217f3d6'\n"
     ]
    }
   ],
   "source": [
    "# Create the AES object.\n",
    "aliceAES = AES.new(key, AES.MODE_CBC, nonce) # Cipher Block Chaining mode.\n",
    "\n",
    "# Create the message. AES works on 16 bytes at a time so the message must be a multiple. We pad it if it is not.\n",
    "message = b\"I want to send a secret message!\"\n",
    "paddedMsg = pad.pad(message, AES.block_size)\n",
    "\n",
    "# Now call the AES encryption.\n",
    "cipherText = aliceAES.encrypt(paddedMsg)\n",
    "\n",
    "print(\"The cipher text is: {}\".format(binascii.hexlify(cipherText)))"
   ]
  },
  {
   "cell_type": "markdown",
   "metadata": {},
   "source": [
    "##### Now have Bob decrypt the message. He recieves the cipher text and the nonce (which could just be appended to the cipher text)."
   ]
  },
  {
   "cell_type": "code",
   "execution_count": 85,
   "metadata": {},
   "outputs": [
    {
     "name": "stdout",
     "output_type": "stream",
     "text": [
      "b'I want to send a secret message!'\n"
     ]
    }
   ],
   "source": [
    "# Assume Bob received the key secretly. He extracts the nonce with his prior knowledge of where to look in the cipher text.\n",
    "bobAES = AES.new(key, AES.MODE_CBC, nonce)\n",
    "decryptMsg = bobAES.decrypt(cipherText)\n",
    "\n",
    "# As there may be some padding from the 16 byte message block size requirement strip off any zeros.\n",
    "print(pad.unpad(decryptMsg, AES.block_size))"
   ]
  }
 ],
 "metadata": {
  "kernelspec": {
   "display_name": "Python 3",
   "language": "python",
   "name": "python3"
  },
  "language_info": {
   "codemirror_mode": {
    "name": "ipython",
    "version": 3
   },
   "file_extension": ".py",
   "mimetype": "text/x-python",
   "name": "python",
   "nbconvert_exporter": "python",
   "pygments_lexer": "ipython3",
   "version": "3.8.5"
  }
 },
 "nbformat": 4,
 "nbformat_minor": 4
}
