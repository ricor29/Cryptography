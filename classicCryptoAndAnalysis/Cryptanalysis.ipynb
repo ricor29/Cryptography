{
 "cells": [
  {
   "cell_type": "markdown",
   "metadata": {},
   "source": [
    "# Cryptanalysis\n",
    "\n",
    "This notebook applies frequency analysis to the Vigenere cipher. \"Implementing Cryptography using Python\" was a useful resource to refer to when doing this."
   ]
  },
  {
   "cell_type": "markdown",
   "metadata": {},
   "source": [
    "## Basic maths\n",
    "\n",
    "A module of simple maths has been put together. In this notebook it is executed to demonstrate it."
   ]
  },
  {
   "cell_type": "code",
   "execution_count": 1,
   "metadata": {},
   "outputs": [],
   "source": [
    "%load_ext autoreload\n",
    "%autoreload 2"
   ]
  },
  {
   "cell_type": "code",
   "execution_count": 2,
   "metadata": {},
   "outputs": [],
   "source": [
    "import cryptoMath as cm"
   ]
  },
  {
   "cell_type": "markdown",
   "metadata": {},
   "source": [
    "### Generating a prime number for a given set of bits\n",
    "\n",
    "At the core of a lot of algorithms is the ability to generate and factorise prime numbers. The following demonstrates how it is possible to generate prime numbers using a brute force approach. "
   ]
  },
  {
   "cell_type": "code",
   "execution_count": 3,
   "metadata": {},
   "outputs": [],
   "source": [
    "semiPrimeGen = cm.SemiPrime()"
   ]
  },
  {
   "cell_type": "code",
   "execution_count": 4,
   "metadata": {
    "tags": []
   },
   "outputs": [
    {
     "name": "stdout",
     "output_type": "stream",
     "text": [
      "PRIME FOUND: 20994097\n",
      "20994097\n",
      "PRIME FOUND: 23538947\n",
      "23538947\n",
      "First prime is: 20994097\n",
      "Second prime is: 23538947\n",
      "Semi-prime is: 494178936595859\n"
     ]
    }
   ],
   "source": [
    "intBitLength = 25\n",
    "p,q = semiPrimeGen.createTwoPrimes(intBitLength)\n",
    "\n",
    "print(\"First prime is: {}\".format(p))\n",
    "print(\"Second prime is: {}\".format(q))\n",
    "print(\"Semi-prime is: {}\".format(p*q))"
   ]
  },
  {
   "cell_type": "markdown",
   "metadata": {},
   "source": [
    "### Now demonstrate the greatest common divisor algorithm."
   ]
  },
  {
   "cell_type": "code",
   "execution_count": 5,
   "metadata": {},
   "outputs": [
    {
     "data": {
      "text/plain": [
       "3"
      ]
     },
     "execution_count": 5,
     "metadata": {},
     "output_type": "execute_result"
    }
   ],
   "source": [
    "cm.gcd(15,12) # Expected answer is 3."
   ]
  },
  {
   "cell_type": "code",
   "execution_count": null,
   "metadata": {},
   "outputs": [],
   "source": []
  }
 ],
 "metadata": {
  "kernelspec": {
   "display_name": "Python 3",
   "language": "python",
   "name": "python3"
  },
  "language_info": {
   "codemirror_mode": {
    "name": "ipython",
    "version": 3
   },
   "file_extension": ".py",
   "mimetype": "text/x-python",
   "name": "python",
   "nbconvert_exporter": "python",
   "pygments_lexer": "ipython3",
   "version": "3.8.5"
  }
 },
 "nbformat": 4,
 "nbformat_minor": 4
}
