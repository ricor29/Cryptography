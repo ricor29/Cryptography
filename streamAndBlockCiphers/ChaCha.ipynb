{
 "cells": [
  {
   "cell_type": "markdown",
   "metadata": {},
   "source": [
    "# Implementation of a ChaCha Cipher\n",
    "\n",
    "Understanding how the ChaCha cipher with its matrix and quarter round structure works. Implementation based on \"Implementing Cryptography Using Python\". This is for understanding how it works rather than good code!\n",
    "\n",
    "The encryption is undertaken by having a 4x4 matrix where each word is 32 bits. The key operations are Add-Rotate-Xor. A series of quarter rounds operate on the four following columns (A,B,C,D) followed by the four diagonals with the data as specified in the table below:\n",
    "\n",
    "\n",
    "A    |B    |C    |D\n",
    "-----|-----|-----|----\n",
    "Const0|Const1|Const2|Const3\n",
    "Key0|Key1|Key2|Key3\n",
    "Key4|Key5|Key6|Key7\n",
    "Input0|Input1|Input2|Input3"
   ]
  },
  {
   "cell_type": "code",
   "execution_count": 6,
   "metadata": {},
   "outputs": [],
   "source": [
    "# Import required modules.\n",
    "from base64 import b64encode\n",
    "import  os\n",
    "import struct"
   ]
  },
  {
   "cell_type": "code",
   "execution_count": 7,
   "metadata": {},
   "outputs": [],
   "source": [
    "class ChaCha():\n",
    "    '''ChaCha cipher.'''\n",
    "    \n",
    "    def __init__(self):\n",
    "        ''' Initialisation of member variables. None implemented - could put the initial matrix here.'''\n",
    "        pass\n",
    "    \n",
    "    \n",
    "    def chachaGen(self, key, iv, position=0):\n",
    "        ''' Perform the quarter rounds for the ChaCha algorithm and prepare the key that input\n",
    "            data will be xor'd against.\n",
    "        \n",
    "            INPUTS:\n",
    "                key - The secret key as type bytes.\n",
    "                iv -  The initialisation vector as type bytes.\n",
    "                position - The stream position.\n",
    "                \n",
    "            OUTPUTS:\n",
    "                This is a generator so will 'yield' a \n",
    "        '''\n",
    "\n",
    "        # Validate input data.\n",
    "        self.checkInput(position, key, iv)\n",
    "\n",
    "        # Setup the ChaCha 4x4 table - see note above for structure.\n",
    "        chaMtrx = [0] * 16   # Initialise all with zeros.\n",
    "        chaMtrx[:4] = (1634760805, 857760878, 2036477234, 1797285236)   # Put the constants on first row.\n",
    "        chaMtrx[4 : 12] = struct.unpack('<8L', key)   # Put the key on the next two rows.\n",
    "        chaMtrx[12] = chaMtrx[13] = position    # Initialise first two inputs with the supplied position.\n",
    "        chaMtrx[14 : 16] = struct.unpack('<LL', iv)  # Put the IV on to the remaining two inputs.\n",
    "        \n",
    "        # Create a generator that will run all the quaterrounds each time it is invoked.\n",
    "        while 1:\n",
    "            \n",
    "            # Copy the list (i.e. not a reference). It is used below when adding the output of the \n",
    "            # quarter rounds back to the table.\n",
    "            x = chaMtrx.copy()\n",
    "\n",
    "            # Undertake 10 column rounds and 10 diagonal rounds (so 20 in total).\n",
    "            for i in range(10):\n",
    "                self.quarterRound(x, 0, 4,  8, 12)\n",
    "                self.quarterRound(x, 1, 5,  9, 13)\n",
    "                self.quarterRound(x, 2, 6, 10, 14)\n",
    "                self.quarterRound(x, 3, 7, 11, 15)\n",
    "                self.quarterRound(x, 0, 5, 10, 15)\n",
    "                self.quarterRound(x, 1, 6, 11, 12)\n",
    "                self.quarterRound(x, 2, 7,  8, 13)\n",
    "                self.quarterRound(x, 3, 4,  9, 14)\n",
    "\n",
    "            # Prepare output that will be used to xor data with.\n",
    "            for c in struct.pack('<16L', *((x[i] + chaMtrx[i]) & 0xffffffff for i in range(16))):\n",
    "                yield c\n",
    "\n",
    "\n",
    "    def quarterRound(self, x, a, b, c, d):\n",
    "        ''' Undertake a quarter round which is defined mathematically as:\n",
    "\n",
    "            a = a + b\n",
    "            d = d ⊕ a\n",
    "            d = (d)<<16\n",
    "            c = c + d\n",
    "            b = b ⊕ c\n",
    "            b = (b)<<12\n",
    "            a = a + b\n",
    "            d = d ⊕ a\n",
    "            d = (d)<<8\n",
    "            c = c + d\n",
    "            b = b ⊕ c\n",
    "            b = (b)<<7\n",
    "\n",
    "        INPUTS:\n",
    "            x - The chacha table as a list.\n",
    "            a,b,c,d - integer position indexes into the list. NB a=0 is top left, b=4 would be const0,\n",
    "                    c=8 would be key0, and d=12 would be input0 (i.e. first column).\n",
    "        OUTPUTS:\n",
    "            x - passed by reference in so in place modification.\n",
    "\n",
    "        '''\n",
    "\n",
    "        # Undertake a quarter round. In this we update the column/diagonal values with add, rotate, and xor operations.\n",
    "        x[a] = (x[a] + x[b]) & 0xffffffff  # The 0xffffffff represents the max value a 32 bit number can have. So this prevents overflow of the x[a]+x[b].\n",
    "        x[d] = self.rotate(x[d] ^ x[a], 16)\n",
    "        x[c] = (x[c] + x[d]) & 0xffffffff\n",
    "        x[b] = self.rotate(x[b] ^ x[c], 12)\n",
    "        x[a] = (x[a] + x[b]) & 0xffffffff\n",
    "        x[d] = self.rotate(x[d] ^ x[a], 8)\n",
    "        x[c] = (x[c] + x[d]) & 0xffffffff\n",
    "        x[b] = self.rotate(x[b] ^ x[c], 7)\n",
    "\n",
    "\n",
    "    def rotate(self, v, c):\n",
    "        ''' Rotate v by c as defined by ChaCha spec.'''\n",
    "\n",
    "        return ((v << c) & 0xffffffff) | v >> (32 - c) # NB 0xffffffff to avoid 32 bit int overflow.\n",
    "\n",
    "    \n",
    "    def chachaEncryptDecrypt(self, data, key, iv=None, position=0):\n",
    "        ''' Function to encyrpt or decrypt.\n",
    "            INPUTS:\n",
    "                data - The message as bytes.\n",
    "                key - The key as bytes.\n",
    "            OUTPUT: Either the cipher text (if encrypting) or plain text. Both as bytes.\n",
    "        '''\n",
    "        \n",
    "        # Encrypt (or decrypt) with the ChaCha20 cipher.\n",
    "        if not isinstance(data, bytes):\n",
    "            raise TypeError\n",
    "        if iv is None:\n",
    "            iv = b'\\0' * 8\n",
    "        if isinstance(key, bytes):\n",
    "            if not key:\n",
    "                raise ValueError('Key is empty.')\n",
    "            if len(key) < 32:\n",
    "                key = (key * (32 // len(key) + 1))[:32]\n",
    "            if len(key) > 32:\n",
    "                raise ValueError('Key too long.')\n",
    "\n",
    "        # Now xor input data with the generated ChaCha key. Cast to bytes.  \n",
    "        # NB that the encryption is actually done on a byte by byte basis i.e. this\n",
    "        # could easily be streamed in.\n",
    "        outData = bytes(a ^ b for a, b in zip(data, self.chachaGen(key, iv, position)))\n",
    "        \n",
    "        return outData\n",
    "\n",
    "    \n",
    "    def checkInput(self, position, key, iv):\n",
    "        ''' Helper function to check the input to the cipher. This will throw if conditions checked aren't met.'''\n",
    "\n",
    "        # Check position is an int.\n",
    "        if not isinstance(position, int):\n",
    "            raise TypeError\n",
    "\n",
    "        # Do a bitwise check with complement to check int32.\n",
    "        if position & ~0xffffffff:\n",
    "            raise ValueError('Position is not uint32.')\n",
    "\n",
    "        # Type and length checks on key and IV.\n",
    "        if not isinstance(key, bytes):\n",
    "            raise TypeError\n",
    "        if not isinstance(iv, bytes):\n",
    "            raise TypeError\n",
    "        if len(key) != 32:\n",
    "            raise ValueError\n",
    "        if len(iv) != 8:\n",
    "            raise ValueError"
   ]
  },
  {
   "cell_type": "markdown",
   "metadata": {},
   "source": [
    "### Encrypt a message and then decrypt it."
   ]
  },
  {
   "cell_type": "code",
   "execution_count": 8,
   "metadata": {},
   "outputs": [],
   "source": [
    "# Define a ChaCha object.\n",
    "chaCipher = ChaCha()"
   ]
  },
  {
   "cell_type": "code",
   "execution_count": 9,
   "metadata": {},
   "outputs": [
    {
     "name": "stdout",
     "output_type": "stream",
     "text": [
      "\n",
      "The plaintext is b'The start of the journey was ....'\n",
      "\n",
      "The encrypted text is rUr4ivRtaRlVZ7QVpiVPd6nSSz+Tn8lFioHPpmWXqZtj. \n"
     ]
    }
   ],
   "source": [
    "# Define the message\n",
    "key = b'ThisKeyMustBeKeptSecret-abcd!!'\n",
    "plaintext = b'The start of the journey was ....'\n",
    "print('\\nThe plaintext is {}'.format(plaintext))\n",
    "\n",
    "# Create an initialisation vector.\n",
    "iv = os.urandom(8)\n",
    "\n",
    "# Encrypt the text.\n",
    "enc = chaCipher.chachaEncryptDecrypt(plaintext, key, iv)\n",
    "decode_enc = b64encode(enc).decode('utf-8')\n",
    "print('\\nThe encrypted text is {}. '.format(decode_enc))"
   ]
  },
  {
   "cell_type": "code",
   "execution_count": 10,
   "metadata": {
    "tags": []
   },
   "outputs": [
    {
     "name": "stdout",
     "output_type": "stream",
     "text": [
      "\n",
      "The decrypted text is b'The start of the journey was ....'. \n"
     ]
    }
   ],
   "source": [
    "# Decrypt the cipher text.\n",
    "dec = chaCipher.chachaEncryptDecrypt(enc, key, iv)\n",
    "print('\\nThe decrypted text is {}. '.format(dec))"
   ]
  }
 ],
 "metadata": {
  "kernelspec": {
   "display_name": "Python 3",
   "language": "python",
   "name": "python3"
  },
  "language_info": {
   "codemirror_mode": {
    "name": "ipython",
    "version": 3
   },
   "file_extension": ".py",
   "mimetype": "text/x-python",
   "name": "python",
   "nbconvert_exporter": "python",
   "pygments_lexer": "ipython3",
   "version": "3.8.5"
  }
 },
 "nbformat": 4,
 "nbformat_minor": 4
}
