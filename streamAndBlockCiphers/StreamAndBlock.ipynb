{
 "cells": [
  {
   "cell_type": "markdown",
   "metadata": {},
   "source": [
    "# Stream and Block Ciphers\n",
    "\n",
    "This notebook implements XXXX"
   ]
  },
  {
   "cell_type": "markdown",
   "metadata": {},
   "source": [
    "### Stream Ciphers\n",
    "\n",
    "TODO: What is a stream cipher"
   ]
  },
  {
   "cell_type": "markdown",
   "metadata": {},
   "source": [
    "#### A simple (unsecure) stream cipher"
   ]
  },
  {
   "cell_type": "code",
   "execution_count": 39,
   "metadata": {},
   "outputs": [],
   "source": [
    "import binascii"
   ]
  },
  {
   "cell_type": "code",
   "execution_count": 40,
   "metadata": {},
   "outputs": [],
   "source": [
    "def crand(seed):\n",
    "    r=[]\n",
    "    r.append(seed)\n",
    "    for i in range(30):\n",
    "        r.append((16807*r[-1]) % 2147483647)\n",
    "        if r[-1] < 0:\n",
    "            r[-1] += 2147483647    \n",
    "    for i in range(31, 34):\n",
    "        r.append(r[len(r)-31])\n",
    "    for i in range(34, 344):\n",
    "        r.append((r[len(r)-31] + r[len(r)-3]) % 2**32)\n",
    "\n",
    "    while True:\n",
    "        next = r[len(r)-31]+r[len(r)-3] % 2**32\n",
    "        r.append(next)\n",
    "        yield (next >> 1 if next < 2**32 else (next % 2**32) >> 1)"
   ]
  },
  {
   "cell_type": "code",
   "execution_count": 127,
   "metadata": {},
   "outputs": [],
   "source": [
    "def encrypt(msg, key):\n",
    " \n",
    "    # Convert plain text in (byte) form to hex.\n",
    "    hexPlain = binascii.hexlify(plainText)\n",
    "    \n",
    "    # Convert key to hex. In the code below the key\n",
    "    # is a list. The map function passes the elements of the list\n",
    "    # into the lambda function. The join assembles it as one string.\n",
    "    # Remember the map is an iterable.\n",
    "    keyHex = \"\".join(map(lambda x: format(x, 'x')[-6:], key))\n",
    "    \n",
    "    # Apply XOR operation (OTP like). To do this need to convert to int.\n",
    "    cipherInt = int(hexPlain, 16) ^ int(keyHex, 16)\n",
    "    \n",
    "    # Return cipher text as hex.\n",
    "    cipherHex = format(cipherInt, 'x')\n",
    "    \n",
    "    return cipherHex"
   ]
  },
  {
   "cell_type": "code",
   "execution_count": 128,
   "metadata": {},
   "outputs": [],
   "source": [
    "def decrypt(cipherHex, key):\n",
    "\n",
    "    # Convert the hex back to an int for xor operation.\n",
    "    cipherInt = int(cipherHex, 16)\n",
    "\n",
    "    # Convert key to hex. In the code below the key\n",
    "    # is a list. The map function passes the elements of the list\n",
    "    # into the lambda function. The join assembles it as one string.\n",
    "    # Remember the map is an iterable.\n",
    "    keyHex = \"\".join(map(lambda x: format(x, 'x')[-6:], key))\n",
    "\n",
    "    # Decrypt by applying XOR operation again.\n",
    "    msgHex = format(cipherInt ^ int(keyHex, 16), 'x')\n",
    "\n",
    "    # Convert back to plain text.\n",
    "    msgPlain = binascii.unhexlify(msgHex)\n",
    "\n",
    "    return msgPlain"
   ]
  },
  {
   "cell_type": "code",
   "execution_count": 129,
   "metadata": {},
   "outputs": [
    {
     "name": "stdout",
     "output_type": "stream",
     "text": [
      "The key is [1471611625, 1204518815, 463882823, 963005816]\n",
      "b'Hello World Ending'\n"
     ]
    }
   ],
   "source": [
    "# Define the message to send.\n",
    "plainText = b\"Hello World Ending\"\n",
    "# Create the key.\n",
    "seed = 2018\n",
    "mygen = crand(seed)\n",
    "key = [next(mygen) for i in range(4)]\n",
    "print(\"The key is {}\".format(key))\n",
    "\n",
    "# Encrypt the message.\n",
    "cipherHex = encrypt(plainText, key)\n",
    "\n",
    "# Decrypt the message.\n",
    "msgDecrypt = decrypt(cipherHex, key)\n",
    "print(msgDecrypt)"
   ]
  },
  {
   "cell_type": "code",
   "execution_count": 125,
   "metadata": {},
   "outputs": [
    {
     "name": "stdout",
     "output_type": "stream",
     "text": [
      "The key is [60209456, 357898661, 257185675, 1235229180, 765860086, 1920452902]\n",
      "b'satisfying right??'\n"
     ]
    }
   ],
   "source": [
    "# Create new key.\n",
    "seed = 54321\n",
    "mygen = crand(seed)\n",
    "key = [next(mygen) for i in range(6)] # NB MUST BE SAME LENGTH AS CIPHER HEX FOR OTP!!!!\n",
    "\n",
    "print(\"The key is {}\".format(key))\n",
    "\n",
    "# Defined cipher text.\n",
    "cipherHex = 'e5d8443c6ac32d3ee5c7398ecf7f9e03f619'\n",
    "\n",
    "# Decrypt the message.\n",
    "msgDecrypt = decrypt(cipherHex, key)\n",
    "print(msgDecrypt)"
   ]
  },
  {
   "cell_type": "code",
   "execution_count": null,
   "metadata": {},
   "outputs": [],
   "source": []
  },
  {
   "cell_type": "code",
   "execution_count": 130,
   "metadata": {},
   "outputs": [],
   "source": [
    "import os"
   ]
  },
  {
   "cell_type": "code",
   "execution_count": 131,
   "metadata": {},
   "outputs": [
    {
     "data": {
      "text/plain": [
       "b',\\xc2Pg\\xde8'"
      ]
     },
     "execution_count": 131,
     "metadata": {},
     "output_type": "execute_result"
    }
   ],
   "source": [
    "os.urandom(6)"
   ]
  },
  {
   "cell_type": "code",
   "execution_count": null,
   "metadata": {},
   "outputs": [],
   "source": []
  }
 ],
 "metadata": {
  "kernelspec": {
   "display_name": "Python 3",
   "language": "python",
   "name": "python3"
  },
  "language_info": {
   "codemirror_mode": {
    "name": "ipython",
    "version": 3
   },
   "file_extension": ".py",
   "mimetype": "text/x-python",
   "name": "python",
   "nbconvert_exporter": "python",
   "pygments_lexer": "ipython3",
   "version": "3.8.5"
  }
 },
 "nbformat": 4,
 "nbformat_minor": 4
}
