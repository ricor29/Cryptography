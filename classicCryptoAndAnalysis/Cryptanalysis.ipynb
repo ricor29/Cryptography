{
 "cells": [
  {
   "cell_type": "markdown",
   "metadata": {},
   "source": [
    "# Math and Cryptanalysis\n",
    "\n",
    "This notebook applies frequency analysis to the Vigenere cipher. \"Implementing Cryptography using Python\" was a useful resource to refer to when doing this. Most code has been written in the module cryptoMath and is just demonstrated here."
   ]
  },
  {
   "cell_type": "markdown",
   "metadata": {},
   "source": [
    "## Basic maths\n",
    "\n",
    "A module of simple maths has been put together. In this notebook it is executed to demonstrate it."
   ]
  },
  {
   "cell_type": "code",
   "execution_count": 12,
   "metadata": {},
   "outputs": [
    {
     "name": "stdout",
     "output_type": "stream",
     "text": [
      "The autoreload extension is already loaded. To reload it, use:\n",
      "  %reload_ext autoreload\n"
     ]
    }
   ],
   "source": [
    "%load_ext autoreload\n",
    "%autoreload 2"
   ]
  },
  {
   "cell_type": "code",
   "execution_count": 13,
   "metadata": {},
   "outputs": [],
   "source": [
    "import cryptoMath as cm"
   ]
  },
  {
   "cell_type": "markdown",
   "metadata": {},
   "source": [
    "### Generating a prime number for a given set of bits\n",
    "\n",
    "At the core of a lot of algorithms is the ability to generate and factorise prime numbers. The following demonstrates how it is possible to generate prime numbers using a brute force approach. "
   ]
  },
  {
   "cell_type": "code",
   "execution_count": 14,
   "metadata": {},
   "outputs": [],
   "source": [
    "semiPrimeGen = cm.SemiPrime()"
   ]
  },
  {
   "cell_type": "code",
   "execution_count": 80,
   "metadata": {
    "tags": []
   },
   "outputs": [
    {
     "name": "stdout",
     "output_type": "stream",
     "text": [
      "PRIME FOUND: 19868341\n",
      "19868341\n",
      "PRIME FOUND: 27709967\n",
      "27709967\n",
      "First prime is: 19868341\n",
      "Second prime is: 27709967\n",
      "Semi-prime is: 550551073454747\n"
     ]
    }
   ],
   "source": [
    "intBitLength = 25\n",
    "p,q = semiPrimeGen.createTwoPrimes(intBitLength)\n",
    "\n",
    "print(\"First prime is: {}\".format(p))\n",
    "print(\"Second prime is: {}\".format(q))\n",
    "print(\"Semi-prime is: {}\".format(p*q))"
   ]
  },
  {
   "cell_type": "markdown",
   "metadata": {},
   "source": [
    "### Now demonstrate the greatest common divisor algorithm using standard Euclid GCD algorithm."
   ]
  },
  {
   "cell_type": "code",
   "execution_count": 77,
   "metadata": {},
   "outputs": [
    {
     "data": {
      "text/plain": [
       "3"
      ]
     },
     "execution_count": 77,
     "metadata": {},
     "output_type": "execute_result"
    }
   ],
   "source": [
    "a = 9\n",
    "b = 12\n",
    "cm.gcd(a,b) # Expected answer is 3."
   ]
  },
  {
   "cell_type": "markdown",
   "metadata": {},
   "source": [
    "### Modular Inverse\n",
    "\n",
    "For this problem we want to find a^1*a≡1 (mod m).\n",
    "\n",
    "We can use Fermat's Little Theorem to do this (if we konw that the 'm' is prime)."
   ]
  },
  {
   "cell_type": "code",
   "execution_count": 78,
   "metadata": {},
   "outputs": [],
   "source": [
    "a = 5\n",
    "m = 21"
   ]
  },
  {
   "cell_type": "code",
   "execution_count": 101,
   "metadata": {
    "tags": []
   },
   "outputs": [
    {
     "name": "stdout",
     "output_type": "stream",
     "text": [
      "This assumes a and m are coprime (i.e. no common divisor except 1 exists).\n"
     ]
    },
    {
     "data": {
      "text/plain": [
       "17"
      ]
     },
     "execution_count": 101,
     "metadata": {},
     "output_type": "execute_result"
    }
   ],
   "source": [
    "flt = cm.FermatLittleTheorem()\n",
    "flt.modInverse(a,m)"
   ]
  },
  {
   "cell_type": "markdown",
   "metadata": {},
   "source": [
    "### Euler's Totient function\n",
    "\n",
    "This function counts the number of integers up to and including n that are coprime (i.e. gcd of 1) with n."
   ]
  },
  {
   "cell_type": "code",
   "execution_count": 118,
   "metadata": {},
   "outputs": [
    {
     "name": "stdout",
     "output_type": "stream",
     "text": [
      "2\n",
      "6\n"
     ]
    }
   ],
   "source": [
    "# First do for a non-prime which should give an answer of 2 as only \"1 and 5 have a gcd of 1 with 6\".\n",
    "print(cm.eulPhi(6))\n",
    "\n",
    "# Now do a prime which should give primeInt - 1 as an answer i.e. 7 - 1 = \n",
    "print(cm.eulPhi(7))"
   ]
  },
  {
   "cell_type": "code",
   "execution_count": null,
   "metadata": {},
   "outputs": [],
   "source": []
  }
 ],
 "metadata": {
  "kernelspec": {
   "display_name": "Python 3",
   "language": "python",
   "name": "python3"
  },
  "language_info": {
   "codemirror_mode": {
    "name": "ipython",
    "version": 3
   },
   "file_extension": ".py",
   "mimetype": "text/x-python",
   "name": "python",
   "nbconvert_exporter": "python",
   "pygments_lexer": "ipython3",
   "version": "3.8.5"
  }
 },
 "nbformat": 4,
 "nbformat_minor": 4
}
