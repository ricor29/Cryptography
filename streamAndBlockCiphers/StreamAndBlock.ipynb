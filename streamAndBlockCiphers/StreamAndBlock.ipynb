{
 "cells": [
  {
   "cell_type": "markdown",
   "metadata": {},
   "source": [
    "# Stream and Block Ciphers\n",
    "\n",
    "This notebook solves the problems presented in \"Implementation Cryptography with Python\" by S.Bray\"Implementation Cryptography with Python\" by S.Bray for a simple stream cipher."
   ]
  },
  {
   "cell_type": "markdown",
   "metadata": {},
   "source": [
    "### Stream Ciphers"
   ]
  },
  {
   "cell_type": "markdown",
   "metadata": {},
   "source": [
    "#### A simple (unsecure) stream cipher. This is composed of a random number generator to create a shared private key, encryption (XOR), and decryption (XOR)."
   ]
  },
  {
   "cell_type": "code",
   "execution_count": 276,
   "metadata": {},
   "outputs": [],
   "source": [
    "import binascii"
   ]
  },
  {
   "cell_type": "code",
   "execution_count": 277,
   "metadata": {},
   "outputs": [],
   "source": [
    "def crand(seed):\n",
    "    ''' 8 bit random number generator.\n",
    "    INPUT: \n",
    "        seed - the starting point the generator.\n",
    "    OUTPUT: \n",
    "        an integer random number.\n",
    "    '''\n",
    "    \n",
    "    # Copy of a pseudorandom number generator.\n",
    "    r=[]\n",
    "    r.append(seed)\n",
    "    for i in range(30):\n",
    "        r.append((16807*r[-1]) % 2147483647)\n",
    "        if r[-1] < 0:\n",
    "            r[-1] += 2147483647    \n",
    "    for i in range(31, 34):\n",
    "        r.append(r[len(r)-31])\n",
    "    for i in range(34, 344):\n",
    "        r.append((r[len(r)-31] + r[len(r)-3]) % 2**32)\n",
    "\n",
    "    while True:\n",
    "        next = r[len(r)-31]+r[len(r)-3] % 2**32\n",
    "        r.append(next)\n",
    "        yield (next >> 1 if next < 2**32 else (next % 2**32) >> 1)"
   ]
  },
  {
   "cell_type": "code",
   "execution_count": 285,
   "metadata": {},
   "outputs": [],
   "source": [
    "def encrypt(msg, key):\n",
    "    ''' Encrypt a message with a private key.\n",
    "        The message and key will be converted to hex, the hex then to int base 16, finally an xor applied. In python xor on ints is done at bit level.\n",
    "        INPUTS:\n",
    "            msg - plaintext message to encrypt.\n",
    "            key - random integer key with same number of bytes as message.\n",
    "        OUTPUT:\n",
    "            cipherHex - the cipher in hex format.\n",
    "    '''\n",
    "\n",
    "    # Convert plain text in (byte) form to hex.\n",
    "    hexPlain = binascii.hexlify(plainText)\n",
    "    \n",
    "    # Convert key to hex. In the code below the key\n",
    "    # is a list. The map function passes the elements of the list\n",
    "    # into the lambda function. The join assembles it as one string.\n",
    "    # Remember the map is an iterable.\n",
    "    keyHex = \"\".join(map(lambda x: format(x, 'x')[-6:], key)) # Only use 6 bits ASCII.\n",
    "    \n",
    "    # Apply XOR operation (OTP like). To do this need to convert to int.\n",
    "    cipherInt = int(hexPlain, 16) ^ int(keyHex, 16)\n",
    "    \n",
    "    # Return cipher text as hex.\n",
    "    cipherHex = format(cipherInt, 'x')\n",
    "    \n",
    "    return cipherHex"
   ]
  },
  {
   "cell_type": "code",
   "execution_count": 279,
   "metadata": {},
   "outputs": [],
   "source": [
    "def decrypt(cipherHex, key):\n",
    "    ''' Decrypt a message with a private key.\n",
    "        INPUTS:\n",
    "            cipherHex - hex encoded cipher.\n",
    "            key - random integer key with same number of bytes as message.\n",
    "        OUTPUT:\n",
    "            cipherHex - the cipher in hex format.\n",
    "    '''\n",
    "    \n",
    "    # Convert the hex back to an int for xor operation.\n",
    "    cipherInt = int(cipherHex, 16)\n",
    "\n",
    "    # Convert key to hex. In the code below the key\n",
    "    # is a list. The map function passes the elements of the list\n",
    "    # into the lambda function. The join assembles it as one string.\n",
    "    # Remember the map is an iterable.\n",
    "    keyHex = \"\".join(map(lambda x: format(x, 'x')[-6:], key)) # Only use 6 bits ASCII.\n",
    "\n",
    "    # Decrypt by applying XOR operation again.\n",
    "    msgHex = format(cipherInt ^ int(keyHex, 16), 'x')\n",
    "\n",
    "    # Convert back to plain text.\n",
    "    msgPlain = binascii.unhexlify(msgHex)\n",
    "\n",
    "    return msgPlain"
   ]
  },
  {
   "cell_type": "markdown",
   "metadata": {},
   "source": [
    "##### Now use the above functions to demonstrate on a simple message."
   ]
  },
  {
   "cell_type": "code",
   "execution_count": 280,
   "metadata": {},
   "outputs": [
    {
     "name": "stdout",
     "output_type": "stream",
     "text": [
      "The key is [1471611625, 1204518815, 463882823, 963005816]\n",
      "b'Hello World Ending'\n"
     ]
    }
   ],
   "source": [
    "# Define the message to send.\n",
    "plainText = b\"Hello World Ending\"\n",
    "# Create the key which is really just the seed.\n",
    "seed = 2018\n",
    "mygen = crand(seed)\n",
    "key = [next(mygen) for i in range(4)] # Create a key which is at least as long as message in terms of bits.\n",
    "print(\"The key is {}\".format(key))\n",
    "\n",
    "# Encrypt the message.\n",
    "cipherHex = encrypt(plainText, key)\n",
    "\n",
    "# Decrypt the message.\n",
    "msgDecrypt = decrypt(cipherHex, key)\n",
    "print(msgDecrypt)"
   ]
  },
  {
   "cell_type": "markdown",
   "metadata": {},
   "source": [
    "Take the seed (key) and cipherHex in the example where the decryption is not given and try to get the right answer!"
   ]
  },
  {
   "cell_type": "code",
   "execution_count": 281,
   "metadata": {},
   "outputs": [
    {
     "name": "stdout",
     "output_type": "stream",
     "text": [
      "The key is [60209456, 357898661, 257185675, 1235229180, 765860086, 1920452902]\n",
      "b'satisfying right??'\n"
     ]
    }
   ],
   "source": [
    "# Create new key.\n",
    "seed = 54321\n",
    "mygen = crand(seed)\n",
    "key = [next(mygen) for i in range(6)] # NB MUST BE SAME LENGTH AS CIPHER HEX FOR OTP!!!!\n",
    "\n",
    "print(\"The key is {}\".format(key))\n",
    "\n",
    "# Defined cipher text - with unknown message.\n",
    "cipherHex = 'e5d8443c6ac32d3ee5c7398ecf7f9e03f619'\n",
    "\n",
    "# Decrypt the message.\n",
    "msgDecrypt = decrypt(cipherHex, key)\n",
    "print(msgDecrypt)"
   ]
  },
  {
   "cell_type": "markdown",
   "metadata": {},
   "source": [
    "### Can this be improved (at a trivial level)?\n",
    "\n",
    "We could use a nonce/\"Initialisation Vector\" to modify the key. We would send the nonce in the clear every time with the message. However this nonce would be used to generate a new seed for the secret key. This would add some randomness in case we sent the same message several times. The following code from S. Bray shows how."
   ]
  },
  {
   "cell_type": "code",
   "execution_count": 282,
   "metadata": {},
   "outputs": [],
   "source": [
    "import os\n",
    "import hashlib\n",
    "\n",
    "# Create a random nonce. This will be appended to the cipher text - it will all look random but both sides know where the nonce is.\n",
    "nonce = os.urandom(6) # This function uses some OS randomness.\n",
    "# Create a hex string from the random bytes.\n",
    "hexnonce = binascii.hexlify(nonce).decode('ascii')\n",
    "\n",
    "# There is still a shared private secret.\n",
    "oursecret = 9123435\n",
    "\n",
    "# However, we now hash (one way function) the nonce and our secret. The hashed value is then used to create the key.\n",
    "concatenated_hex = hexnonce + format(oursecret, 'x')\n",
    "even_length = concatenated_hex.rjust(len(concatenated_hex)+len(concatenated_hex)%2,'0')\n",
    "hexhash = hashlib.sha256(binascii.unhexlify(even_length)).hexdigest()\n",
    "\n",
    "# Now create a new random seed that can be used for the encryption and decryption.\n",
    "newseed = (int (hexhash, 16)) % 2**32\n",
    "\n",
    "# Not shown but the hexnonce should be appended to the cipher text so the receiver can decrypt. See the problem below."
   ]
  },
  {
   "cell_type": "markdown",
   "metadata": {},
   "source": [
    "To prove understanding take the secret key and cipher text that S. Bray gives and try to decrypt!"
   ]
  },
  {
   "cell_type": "code",
   "execution_count": 284,
   "metadata": {},
   "outputs": [
    {
     "name": "stdout",
     "output_type": "stream",
     "text": [
      "b'this is a message.'\n"
     ]
    }
   ],
   "source": [
    "# We are told first 6 bytes are nonce bytes.\n",
    "cipherTxt = '3e08816f1377f89f1c596fc197dd52946c92577bfd7c25c3'\n",
    "\n",
    "# We are told the secret key.\n",
    "oursecret = 61983\n",
    "\n",
    "# Extract the nonce and message.\n",
    "nonceHex = binascii.unhexlify(cipherTxt)[0:6]\n",
    "msgHex = binascii.unhexlify(cipherTxt)[6:]\n",
    "\n",
    "# Now find the new seed.\n",
    "hexnonce = binascii.hexlify(nonceHex).decode('ascii')\n",
    "# However, we now hash (one way function) the nonce and our secret. The hashed value is then used to create the key.\n",
    "concatenated_hex = hexnonce + format(oursecret, 'x')\n",
    "even_length = concatenated_hex.rjust(len(concatenated_hex)+len(concatenated_hex)%2,'0')\n",
    "hexhash = hashlib.sha256(binascii.unhexlify(even_length)).hexdigest()\n",
    "\n",
    "# Now create a new random seed that can be used for the encryption and decryption.\n",
    "newseed = (int (hexhash, 16)) % 2**32\n",
    "\n",
    "# Find the key that was used.\n",
    "mygen = crand(newseed)\n",
    "key = [next(mygen) for i in range(6)] # NB MUST BE SAME LENGTH AS CIPHER HEX FOR OTP!!!!\n",
    "\n",
    "# Decrypt the message.\n",
    "msgDecrypt = decrypt(binascii.hexlify(msgHex), key)\n",
    "print(msgDecrypt)"
   ]
  }
 ],
 "metadata": {
  "kernelspec": {
   "display_name": "Python 3",
   "language": "python",
   "name": "python3"
  },
  "language_info": {
   "codemirror_mode": {
    "name": "ipython",
    "version": 3
   },
   "file_extension": ".py",
   "mimetype": "text/x-python",
   "name": "python",
   "nbconvert_exporter": "python",
   "pygments_lexer": "ipython3",
   "version": "3.8.5"
  }
 },
 "nbformat": 4,
 "nbformat_minor": 4
}
