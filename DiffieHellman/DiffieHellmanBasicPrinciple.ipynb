{
 "cells": [
  {
   "cell_type": "markdown",
   "metadata": {},
   "source": [
    "# Basic principle of Diffie Hellman Key Exchange\n",
    "\n",
    "Diffie-Hellman allows the exchanging of keys over a public channel to creates a set of secret symmetric keys. The following is a short implementation of the exchange process."
   ]
  },
  {
   "cell_type": "markdown",
   "metadata": {},
   "source": [
    "### Alice and Bob want to communicate so share the public keys P and G\n",
    "\n",
    "The key P is choosen to be a prime number. The key G is a primitive root of P."
   ]
  },
  {
   "cell_type": "code",
   "execution_count": 162,
   "metadata": {},
   "outputs": [],
   "source": [
    "# Some code to calculate the primitive root of a prime number.\n",
    "from math import gcd as bltin_gcd\n",
    "import numpy as np\n",
    "\n",
    "def primRoots(modulo):\n",
    "    required_set = {num for num in range(1, modulo) if bltin_gcd(num, modulo) }\n",
    "    return [g for g in range(1, modulo) if required_set == {pow(g, powers, modulo)\n",
    "            for powers in range(1, modulo)}]\n"
   ]
  },
  {
   "cell_type": "code",
   "execution_count": 163,
   "metadata": {},
   "outputs": [],
   "source": [
    "# Choose a prime number.\n",
    "P = 547\n",
    "\n",
    "# Get the primitive roots of the chosen prime.\n",
    "G = np.random.choice(primRoots(P)) # Randomly choose one of the primitive roots.\n",
    "G = int(G) # Just convert data type here for ease later from np.int64 to int."
   ]
  },
  {
   "cell_type": "markdown",
   "metadata": {},
   "source": [
    "### Create a dictionary of information that is known only to Alice or Bob\n",
    "\n",
    "This is just for reference to show who has what information as we proceed through the example."
   ]
  },
  {
   "cell_type": "code",
   "execution_count": 164,
   "metadata": {},
   "outputs": [],
   "source": [
    "# Information that only Alice has access to.\n",
    "a_info = {'P':P, 'G':14}\n",
    "\n",
    "# Information that only Bob has access to.\n",
    "b_info = {'P':P, 'G':14}"
   ]
  },
  {
   "cell_type": "markdown",
   "metadata": {},
   "source": [
    "### Alice chooses her private key: a_private"
   ]
  },
  {
   "cell_type": "code",
   "execution_count": 165,
   "metadata": {},
   "outputs": [],
   "source": [
    "a_private = 2051515 # Randomly chosen.\n",
    "\n",
    "# Add this to Alice's info dict.\n",
    "a_info['a_private'] = a_private"
   ]
  },
  {
   "cell_type": "markdown",
   "metadata": {},
   "source": [
    "### Bob chooses his private key: b_private"
   ]
  },
  {
   "cell_type": "code",
   "execution_count": 166,
   "metadata": {},
   "outputs": [],
   "source": [
    "b_private = 3909151 # Randomly chosen.\n",
    "\n",
    "# Add this to Bob's info dict.\n",
    "b_info['b_private'] = b_private"
   ]
  },
  {
   "cell_type": "markdown",
   "metadata": {},
   "source": [
    "### Each user computes a public value based on their key\n",
    "\n",
    "Diffie Hellman assumes that raising to the power is harder than taking discrete logarithm. Therefore power used here and later."
   ]
  },
  {
   "cell_type": "code",
   "execution_count": 167,
   "metadata": {},
   "outputs": [
    {
     "name": "stdout",
     "output_type": "stream",
     "text": [
      "Alice's public key is 498\n"
     ]
    }
   ],
   "source": [
    "a_public = pow(G,a_private,P)  # Careful of case where a_private == 1.\n",
    "print(\"Alice's public key is {}\".format(a_public))\n",
    "\n",
    "# Store in Alice's dictionary.\n",
    "a_info['a_public'] = a_public"
   ]
  },
  {
   "cell_type": "code",
   "execution_count": 168,
   "metadata": {},
   "outputs": [
    {
     "name": "stdout",
     "output_type": "stream",
     "text": [
      "Bob's public key is 274\n"
     ]
    }
   ],
   "source": [
    "b_public = pow(G,b_private,P)  # Careful of case where b_private == 1.\n",
    "print(\"Bob's public key is {}\".format(b_public))\n",
    "\n",
    "# Store in Bob's dictionary.\n",
    "b_info['b_public'] = b_public "
   ]
  },
  {
   "cell_type": "code",
   "execution_count": 169,
   "metadata": {},
   "outputs": [],
   "source": [
    "# Both Alice and Bob send these keys openly to each other.\n",
    "\n",
    "# Update Alice info first.\n",
    "a_info['b_publicReceivedKey'] = b_public # Alice get's Bob's public key.\n",
    "\n",
    "# Update Bob's info.\n",
    "b_info['a_publicReceivedKey'] = a_public # Bob get's Alice's public key."
   ]
  },
  {
   "cell_type": "code",
   "execution_count": 170,
   "metadata": {},
   "outputs": [
    {
     "name": "stdout",
     "output_type": "stream",
     "text": [
      "Alice now has access to the following information: {'P': 547, 'G': 14, 'a_private': 2051515, 'a_public': 498, 'b_publicReceivedKey': 274}\n",
      "Bob now has access to the following information:   {'P': 547, 'G': 14, 'b_private': 3909151, 'b_public': 274, 'a_publicReceivedKey': 498}\n"
     ]
    }
   ],
   "source": [
    "print(\"Alice now has access to the following information: {}\".format(a_info))\n",
    "print(\"Bob now has access to the following information:   {}\".format(b_info))"
   ]
  },
  {
   "cell_type": "markdown",
   "metadata": {},
   "source": [
    "### Alice computes her secret key that will be used for encryption/decryption"
   ]
  },
  {
   "cell_type": "code",
   "execution_count": 171,
   "metadata": {},
   "outputs": [],
   "source": [
    "aliceSecretKey = pow(b_public, a_private, P)"
   ]
  },
  {
   "cell_type": "markdown",
   "metadata": {},
   "source": [
    "### Bob computes his secret key that will be used for encryption/decryption"
   ]
  },
  {
   "cell_type": "code",
   "execution_count": 172,
   "metadata": {},
   "outputs": [],
   "source": [
    "bobSecretKey = pow(a_public, b_private, P)"
   ]
  },
  {
   "cell_type": "markdown",
   "metadata": {},
   "source": [
    "### View the two secret keys both have"
   ]
  },
  {
   "cell_type": "code",
   "execution_count": 173,
   "metadata": {},
   "outputs": [
    {
     "name": "stdout",
     "output_type": "stream",
     "text": [
      "Alice Secret key: 223\n",
      "Bob Secret key: 223\n"
     ]
    }
   ],
   "source": [
    "print(\"Alice Secret key: {}\".format(aliceSecretKey))\n",
    "print(\"Bob Secret key: {}\".format(bobSecretKey))"
   ]
  },
  {
   "cell_type": "markdown",
   "metadata": {},
   "source": [
    "### Finally look at the information both Alice and Bob have\n",
    "\n",
    "Note that the secret key is not present yet and when calculated above only used public information from the other that was available in their respective dictionary."
   ]
  },
  {
   "cell_type": "code",
   "execution_count": 174,
   "metadata": {},
   "outputs": [
    {
     "name": "stdout",
     "output_type": "stream",
     "text": [
      "Alice now has access to the following information: {'P': 547, 'G': 14, 'a_private': 2051515, 'a_public': 498, 'b_publicReceivedKey': 274}\n",
      "Bob now has access to the following information:   {'P': 547, 'G': 14, 'b_private': 3909151, 'b_public': 274, 'a_publicReceivedKey': 498}\n"
     ]
    }
   ],
   "source": [
    "print(\"Alice now has access to the following information: {}\".format(a_info))\n",
    "print(\"Bob now has access to the following information:   {}\".format(b_info))"
   ]
  },
  {
   "cell_type": "code",
   "execution_count": null,
   "metadata": {},
   "outputs": [],
   "source": []
  },
  {
   "cell_type": "code",
   "execution_count": null,
   "metadata": {},
   "outputs": [],
   "source": []
  }
 ],
 "metadata": {
  "kernelspec": {
   "display_name": "Python 3",
   "language": "python",
   "name": "python3"
  },
  "language_info": {
   "codemirror_mode": {
    "name": "ipython",
    "version": 3
   },
   "file_extension": ".py",
   "mimetype": "text/x-python",
   "name": "python",
   "nbconvert_exporter": "python",
   "pygments_lexer": "ipython3",
   "version": "3.8.5"
  }
 },
 "nbformat": 4,
 "nbformat_minor": 4
}
